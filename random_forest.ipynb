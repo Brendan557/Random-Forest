{
 "cells": [
  {
   "cell_type": "markdown",
   "metadata": {
    "_cell_guid": "e03eed99-4a6a-1493-5aa4-39e5c5ddd14b"
   },
   "source": [
    "## In this kernel we use a random forest to predict house prices.  "
   ]
  },
  {
   "cell_type": "code",
   "execution_count": 1,
   "metadata": {
    "_cell_guid": "819578df-38d2-d569-10c3-8545484286ce"
   },
   "outputs": [],
   "source": [
    "import numpy as np\n",
    "import pandas as pd\n",
    "from sklearn.tree import DecisionTreeRegressor\n",
    "from sklearn.ensemble import RandomForestRegressor # import the random forest model\n",
    "from sklearn import  preprocessing # used for label encoding and imputing NaNs\n",
    "\n",
    "import datetime as dt # we will need this to convert the date to a number of days since some point\n",
    "\n",
    "from sklearn.tree import export_graphviz\n",
    "# import pydotplus\n",
    "import six\n",
    "\n",
    "import matplotlib.pyplot as plt\n",
    "%matplotlib inline"
   ]
  },
  {
   "cell_type": "code",
   "execution_count": 2,
   "metadata": {},
   "outputs": [],
   "source": [
    "import warnings\n",
    "warnings.filterwarnings(\"ignore\")"
   ]
  },
  {
   "cell_type": "markdown",
   "metadata": {
    "_cell_guid": "7bb4ec51-5f50-ff29-ee73-935f6b985392"
   },
   "source": [
    "Importing the data."
   ]
  },
  {
   "cell_type": "code",
   "execution_count": 3,
   "metadata": {
    "_cell_guid": "55d4452a-6959-5067-8230-5d238e5d3077"
   },
   "outputs": [
    {
     "data": {
      "text/html": [
       "<div>\n",
       "<style scoped>\n",
       "    .dataframe tbody tr th:only-of-type {\n",
       "        vertical-align: middle;\n",
       "    }\n",
       "\n",
       "    .dataframe tbody tr th {\n",
       "        vertical-align: top;\n",
       "    }\n",
       "\n",
       "    .dataframe thead th {\n",
       "        text-align: right;\n",
       "    }\n",
       "</style>\n",
       "<table border=\"1\" class=\"dataframe\">\n",
       "  <thead>\n",
       "    <tr style=\"text-align: right;\">\n",
       "      <th></th>\n",
       "      <th>id</th>\n",
       "      <th>timestamp</th>\n",
       "      <th>full_sq</th>\n",
       "      <th>life_sq</th>\n",
       "      <th>floor</th>\n",
       "      <th>max_floor</th>\n",
       "      <th>material</th>\n",
       "      <th>build_year</th>\n",
       "      <th>num_room</th>\n",
       "      <th>kitch_sq</th>\n",
       "      <th>...</th>\n",
       "      <th>cafe_count_5000_price_2500</th>\n",
       "      <th>cafe_count_5000_price_4000</th>\n",
       "      <th>cafe_count_5000_price_high</th>\n",
       "      <th>big_church_count_5000</th>\n",
       "      <th>church_count_5000</th>\n",
       "      <th>mosque_count_5000</th>\n",
       "      <th>leisure_count_5000</th>\n",
       "      <th>sport_count_5000</th>\n",
       "      <th>market_count_5000</th>\n",
       "      <th>price_doc</th>\n",
       "    </tr>\n",
       "  </thead>\n",
       "  <tbody>\n",
       "    <tr>\n",
       "      <th>0</th>\n",
       "      <td>1</td>\n",
       "      <td>2011-08-20</td>\n",
       "      <td>43</td>\n",
       "      <td>27.0</td>\n",
       "      <td>4.0</td>\n",
       "      <td>NaN</td>\n",
       "      <td>NaN</td>\n",
       "      <td>NaN</td>\n",
       "      <td>NaN</td>\n",
       "      <td>NaN</td>\n",
       "      <td>...</td>\n",
       "      <td>9</td>\n",
       "      <td>4</td>\n",
       "      <td>0</td>\n",
       "      <td>13</td>\n",
       "      <td>22</td>\n",
       "      <td>1</td>\n",
       "      <td>0</td>\n",
       "      <td>52</td>\n",
       "      <td>4</td>\n",
       "      <td>5850000</td>\n",
       "    </tr>\n",
       "    <tr>\n",
       "      <th>1</th>\n",
       "      <td>2</td>\n",
       "      <td>2011-08-23</td>\n",
       "      <td>34</td>\n",
       "      <td>19.0</td>\n",
       "      <td>3.0</td>\n",
       "      <td>NaN</td>\n",
       "      <td>NaN</td>\n",
       "      <td>NaN</td>\n",
       "      <td>NaN</td>\n",
       "      <td>NaN</td>\n",
       "      <td>...</td>\n",
       "      <td>15</td>\n",
       "      <td>3</td>\n",
       "      <td>0</td>\n",
       "      <td>15</td>\n",
       "      <td>29</td>\n",
       "      <td>1</td>\n",
       "      <td>10</td>\n",
       "      <td>66</td>\n",
       "      <td>14</td>\n",
       "      <td>6000000</td>\n",
       "    </tr>\n",
       "    <tr>\n",
       "      <th>2</th>\n",
       "      <td>3</td>\n",
       "      <td>2011-08-27</td>\n",
       "      <td>43</td>\n",
       "      <td>29.0</td>\n",
       "      <td>2.0</td>\n",
       "      <td>NaN</td>\n",
       "      <td>NaN</td>\n",
       "      <td>NaN</td>\n",
       "      <td>NaN</td>\n",
       "      <td>NaN</td>\n",
       "      <td>...</td>\n",
       "      <td>10</td>\n",
       "      <td>3</td>\n",
       "      <td>0</td>\n",
       "      <td>11</td>\n",
       "      <td>27</td>\n",
       "      <td>0</td>\n",
       "      <td>4</td>\n",
       "      <td>67</td>\n",
       "      <td>10</td>\n",
       "      <td>5700000</td>\n",
       "    </tr>\n",
       "    <tr>\n",
       "      <th>3</th>\n",
       "      <td>4</td>\n",
       "      <td>2011-09-01</td>\n",
       "      <td>89</td>\n",
       "      <td>50.0</td>\n",
       "      <td>9.0</td>\n",
       "      <td>NaN</td>\n",
       "      <td>NaN</td>\n",
       "      <td>NaN</td>\n",
       "      <td>NaN</td>\n",
       "      <td>NaN</td>\n",
       "      <td>...</td>\n",
       "      <td>11</td>\n",
       "      <td>2</td>\n",
       "      <td>1</td>\n",
       "      <td>4</td>\n",
       "      <td>4</td>\n",
       "      <td>0</td>\n",
       "      <td>0</td>\n",
       "      <td>26</td>\n",
       "      <td>3</td>\n",
       "      <td>13100000</td>\n",
       "    </tr>\n",
       "    <tr>\n",
       "      <th>4</th>\n",
       "      <td>5</td>\n",
       "      <td>2011-09-05</td>\n",
       "      <td>77</td>\n",
       "      <td>77.0</td>\n",
       "      <td>4.0</td>\n",
       "      <td>NaN</td>\n",
       "      <td>NaN</td>\n",
       "      <td>NaN</td>\n",
       "      <td>NaN</td>\n",
       "      <td>NaN</td>\n",
       "      <td>...</td>\n",
       "      <td>319</td>\n",
       "      <td>108</td>\n",
       "      <td>17</td>\n",
       "      <td>135</td>\n",
       "      <td>236</td>\n",
       "      <td>2</td>\n",
       "      <td>91</td>\n",
       "      <td>195</td>\n",
       "      <td>14</td>\n",
       "      <td>16331452</td>\n",
       "    </tr>\n",
       "  </tbody>\n",
       "</table>\n",
       "<p>5 rows × 292 columns</p>\n",
       "</div>"
      ],
      "text/plain": [
       "   id  timestamp  full_sq  life_sq  floor  max_floor  material  build_year  \\\n",
       "0   1 2011-08-20       43     27.0    4.0        NaN       NaN         NaN   \n",
       "1   2 2011-08-23       34     19.0    3.0        NaN       NaN         NaN   \n",
       "2   3 2011-08-27       43     29.0    2.0        NaN       NaN         NaN   \n",
       "3   4 2011-09-01       89     50.0    9.0        NaN       NaN         NaN   \n",
       "4   5 2011-09-05       77     77.0    4.0        NaN       NaN         NaN   \n",
       "\n",
       "   num_room  kitch_sq  ...  cafe_count_5000_price_2500  \\\n",
       "0       NaN       NaN  ...                           9   \n",
       "1       NaN       NaN  ...                          15   \n",
       "2       NaN       NaN  ...                          10   \n",
       "3       NaN       NaN  ...                          11   \n",
       "4       NaN       NaN  ...                         319   \n",
       "\n",
       "  cafe_count_5000_price_4000 cafe_count_5000_price_high  \\\n",
       "0                          4                          0   \n",
       "1                          3                          0   \n",
       "2                          3                          0   \n",
       "3                          2                          1   \n",
       "4                        108                         17   \n",
       "\n",
       "   big_church_count_5000  church_count_5000  mosque_count_5000  \\\n",
       "0                     13                 22                  1   \n",
       "1                     15                 29                  1   \n",
       "2                     11                 27                  0   \n",
       "3                      4                  4                  0   \n",
       "4                    135                236                  2   \n",
       "\n",
       "   leisure_count_5000  sport_count_5000  market_count_5000  price_doc  \n",
       "0                   0                52                  4    5850000  \n",
       "1                  10                66                 14    6000000  \n",
       "2                   4                67                 10    5700000  \n",
       "3                   0                26                  3   13100000  \n",
       "4                  91               195                 14   16331452  \n",
       "\n",
       "[5 rows x 292 columns]"
      ]
     },
     "execution_count": 3,
     "metadata": {},
     "output_type": "execute_result"
    }
   ],
   "source": [
    "df_train = pd.read_csv('train.csv', parse_dates=['timestamp'])\n",
    "df_test = pd.read_csv('test.csv', parse_dates=['timestamp'])\n",
    "df_macro = pd.read_csv('macro.csv', parse_dates=['timestamp'])\n",
    "\n",
    "df_train.head()"
   ]
  },
  {
   "cell_type": "markdown",
   "metadata": {
    "_cell_guid": "903d8f4e-1148-f09e-9911-5b4aafa05632"
   },
   "source": [
    "## Data preparation\n",
    "\n",
    " - Create a vector containing the id's for our predictions and a vector of the target variables.\n",
    " - Create train and test set to make data.\n",
    " - Convert the date into a number of days since some point\n",
    " - Handle the categorical variables and missing values."
   ]
  },
  {
   "cell_type": "code",
   "execution_count": 4,
   "metadata": {
    "_cell_guid": "61a219ad-60f1-8e3b-ab3d-7d998a58305d"
   },
   "outputs": [],
   "source": [
    "# Create a vector containing the id's for our predictions\n",
    "id_test = df_test.id\n",
    "\n",
    "# Create a vector of the target variables in the training set\n",
    "ylog1p_train = np.log1p(df_train['price_doc'].values)\n",
    "df_train = df_train.drop([\"price_doc\"], axis=1)\n",
    "\n",
    "# Create train and test set to then concat to make data wrangling quicker and consistent on train and test\n",
    "df_train[\"trainOrTest\"] = \"train\"\n",
    "df_test[\"trainOrTest\"] = \"test\"\n",
    "df_all = pd.concat([df_train, df_test])\n",
    "\n",
    "df_all = df_all.drop(\"id\", axis=1)"
   ]
  },
  {
   "cell_type": "code",
   "execution_count": 5,
   "metadata": {
    "_cell_guid": "c7cb59ea-409a-6d2b-9e4c-903092d7cf3c"
   },
   "outputs": [
    {
     "name": "stdout",
     "output_type": "stream",
     "text": [
      "   timestamp  timedelta\n",
      "0 2011-08-20          0\n",
      "1 2011-08-23          3\n",
      "2 2011-08-27          7\n",
      "3 2011-09-01         12\n",
      "4 2011-09-05         16\n"
     ]
    }
   ],
   "source": [
    "# Convert the date into a number of days since some point\n",
    "fromDate = min(df_all['timestamp'])\n",
    "df_all['timedelta'] = (df_all['timestamp'] - fromDate).dt.days.astype(int)\n",
    "print(df_all[['timestamp', 'timedelta']].head())\n",
    "df_all.drop('timestamp', axis = 1, inplace = True)"
   ]
  },
  {
   "cell_type": "markdown",
   "metadata": {
    "_cell_guid": "87c8afe3-2d57-2dd4-a13d-aa9191d02120"
   },
   "source": [
    "### Categorical features\n",
    " \n",
    "Sklearn's preprocessing unit has a tool called LabelEncoder() which can assign numeric value to categorical data. Issues to watch out for when using it is that it is possible for algorithms to consider the assigned numeric value as a hierarchy when it is not the case. It is something to keep in mind.  "
   ]
  },
  {
   "cell_type": "code",
   "execution_count": 6,
   "metadata": {
    "_cell_guid": "ae63e45c-96fe-04ca-6788-892130adf651"
   },
   "outputs": [],
   "source": [
    "for c in df_all.columns:\n",
    "    if df_all[c].dtype == 'object':\n",
    "        lbl = preprocessing.LabelEncoder()\n",
    "        lbl.fit(list(df_all[c].values)) \n",
    "        df_all[c] = lbl.transform(list(df_all[c].values))"
   ]
  },
  {
   "cell_type": "markdown",
   "metadata": {
    "_cell_guid": "d3265980-e62e-6b8f-4cfb-82eaffbd2b57"
   },
   "source": [
    "### Missing Values in the Data\n",
    "\n",
    "I won't go into a ton of detail with this as the point of this kernal is to create a Decision Tree/Random Forest.\n",
    "\n",
    "Normally I would look at each column that has missing values individually and evaluate what the best option for replacing missing value is. The options to use are mean, median, most frequent, or numeric values like 0.\n",
    "\n",
    "I will use the mean of any column where there is a missing vlaue.\n",
    "I found an interesting way to fill in missing values using sklearn.preprocessing.Imputer that I want to try so I will do so below."
   ]
  },
  {
   "cell_type": "code",
   "execution_count": 7,
   "metadata": {
    "_cell_guid": "8609a033-3d9b-cbf6-ac39-f3a49e58ac1f"
   },
   "outputs": [],
   "source": [
    "# Create a list of columns that have missing values and an index (True / False)\n",
    "df_missing = df_all.isnull().sum(axis = 0).reset_index()\n",
    "df_missing.columns = ['column_name', 'missing_count']\n",
    "idx_ = df_missing['missing_count'] > 0\n",
    "df_missing = df_missing.loc[idx_]\n",
    "cols_missing = df_missing.column_name.values\n",
    "idx_cols_missing = df_all.columns.isin(cols_missing)"
   ]
  },
  {
   "cell_type": "code",
   "execution_count": 8,
   "metadata": {
    "_cell_guid": "f5c99dc6-69b4-c789-6c76-d14cd545e764"
   },
   "outputs": [],
   "source": [
    "# Instantiate an imputer\n",
    "imputer = preprocessing.Imputer(missing_values='NaN', strategy = 'most_frequent', axis = 0)\n",
    "\n",
    "# Fit the imputer using all of our data but not any dates\n",
    "imputer.fit(df_all.loc[:, idx_cols_missing])\n",
    "\n",
    "# Apply the imputer\n",
    "df_all.loc[:, idx_cols_missing] = imputer.transform(df_all.loc[:, idx_cols_missing])"
   ]
  },
  {
   "cell_type": "code",
   "execution_count": 9,
   "metadata": {
    "_cell_guid": "59d409aa-e486-f447-fa27-d03c3c51c240"
   },
   "outputs": [
    {
     "data": {
      "text/html": [
       "<div>\n",
       "<style scoped>\n",
       "    .dataframe tbody tr th:only-of-type {\n",
       "        vertical-align: middle;\n",
       "    }\n",
       "\n",
       "    .dataframe tbody tr th {\n",
       "        vertical-align: top;\n",
       "    }\n",
       "\n",
       "    .dataframe thead th {\n",
       "        text-align: right;\n",
       "    }\n",
       "</style>\n",
       "<table border=\"1\" class=\"dataframe\">\n",
       "  <thead>\n",
       "    <tr style=\"text-align: right;\">\n",
       "      <th></th>\n",
       "      <th>full_sq</th>\n",
       "      <th>life_sq</th>\n",
       "      <th>floor</th>\n",
       "      <th>max_floor</th>\n",
       "      <th>material</th>\n",
       "      <th>build_year</th>\n",
       "      <th>num_room</th>\n",
       "      <th>kitch_sq</th>\n",
       "      <th>state</th>\n",
       "      <th>product_type</th>\n",
       "      <th>...</th>\n",
       "      <th>cafe_count_5000_price_4000</th>\n",
       "      <th>cafe_count_5000_price_high</th>\n",
       "      <th>big_church_count_5000</th>\n",
       "      <th>church_count_5000</th>\n",
       "      <th>mosque_count_5000</th>\n",
       "      <th>leisure_count_5000</th>\n",
       "      <th>sport_count_5000</th>\n",
       "      <th>market_count_5000</th>\n",
       "      <th>trainOrTest</th>\n",
       "      <th>timedelta</th>\n",
       "    </tr>\n",
       "  </thead>\n",
       "  <tbody>\n",
       "    <tr>\n",
       "      <th>0</th>\n",
       "      <td>43.0</td>\n",
       "      <td>27.0</td>\n",
       "      <td>4.0</td>\n",
       "      <td>17.0</td>\n",
       "      <td>1.0</td>\n",
       "      <td>2014.0</td>\n",
       "      <td>2.0</td>\n",
       "      <td>1.0</td>\n",
       "      <td>2.0</td>\n",
       "      <td>0</td>\n",
       "      <td>...</td>\n",
       "      <td>4</td>\n",
       "      <td>0</td>\n",
       "      <td>13</td>\n",
       "      <td>22</td>\n",
       "      <td>1</td>\n",
       "      <td>0</td>\n",
       "      <td>52</td>\n",
       "      <td>4</td>\n",
       "      <td>1</td>\n",
       "      <td>0</td>\n",
       "    </tr>\n",
       "    <tr>\n",
       "      <th>1</th>\n",
       "      <td>34.0</td>\n",
       "      <td>19.0</td>\n",
       "      <td>3.0</td>\n",
       "      <td>17.0</td>\n",
       "      <td>1.0</td>\n",
       "      <td>2014.0</td>\n",
       "      <td>2.0</td>\n",
       "      <td>1.0</td>\n",
       "      <td>2.0</td>\n",
       "      <td>0</td>\n",
       "      <td>...</td>\n",
       "      <td>3</td>\n",
       "      <td>0</td>\n",
       "      <td>15</td>\n",
       "      <td>29</td>\n",
       "      <td>1</td>\n",
       "      <td>10</td>\n",
       "      <td>66</td>\n",
       "      <td>14</td>\n",
       "      <td>1</td>\n",
       "      <td>3</td>\n",
       "    </tr>\n",
       "    <tr>\n",
       "      <th>2</th>\n",
       "      <td>43.0</td>\n",
       "      <td>29.0</td>\n",
       "      <td>2.0</td>\n",
       "      <td>17.0</td>\n",
       "      <td>1.0</td>\n",
       "      <td>2014.0</td>\n",
       "      <td>2.0</td>\n",
       "      <td>1.0</td>\n",
       "      <td>2.0</td>\n",
       "      <td>0</td>\n",
       "      <td>...</td>\n",
       "      <td>3</td>\n",
       "      <td>0</td>\n",
       "      <td>11</td>\n",
       "      <td>27</td>\n",
       "      <td>0</td>\n",
       "      <td>4</td>\n",
       "      <td>67</td>\n",
       "      <td>10</td>\n",
       "      <td>1</td>\n",
       "      <td>7</td>\n",
       "    </tr>\n",
       "    <tr>\n",
       "      <th>3</th>\n",
       "      <td>89.0</td>\n",
       "      <td>50.0</td>\n",
       "      <td>9.0</td>\n",
       "      <td>17.0</td>\n",
       "      <td>1.0</td>\n",
       "      <td>2014.0</td>\n",
       "      <td>2.0</td>\n",
       "      <td>1.0</td>\n",
       "      <td>2.0</td>\n",
       "      <td>0</td>\n",
       "      <td>...</td>\n",
       "      <td>2</td>\n",
       "      <td>1</td>\n",
       "      <td>4</td>\n",
       "      <td>4</td>\n",
       "      <td>0</td>\n",
       "      <td>0</td>\n",
       "      <td>26</td>\n",
       "      <td>3</td>\n",
       "      <td>1</td>\n",
       "      <td>12</td>\n",
       "    </tr>\n",
       "    <tr>\n",
       "      <th>4</th>\n",
       "      <td>77.0</td>\n",
       "      <td>77.0</td>\n",
       "      <td>4.0</td>\n",
       "      <td>17.0</td>\n",
       "      <td>1.0</td>\n",
       "      <td>2014.0</td>\n",
       "      <td>2.0</td>\n",
       "      <td>1.0</td>\n",
       "      <td>2.0</td>\n",
       "      <td>0</td>\n",
       "      <td>...</td>\n",
       "      <td>108</td>\n",
       "      <td>17</td>\n",
       "      <td>135</td>\n",
       "      <td>236</td>\n",
       "      <td>2</td>\n",
       "      <td>91</td>\n",
       "      <td>195</td>\n",
       "      <td>14</td>\n",
       "      <td>1</td>\n",
       "      <td>16</td>\n",
       "    </tr>\n",
       "  </tbody>\n",
       "</table>\n",
       "<p>5 rows × 291 columns</p>\n",
       "</div>"
      ],
      "text/plain": [
       "   full_sq  life_sq  floor  max_floor  material  build_year  num_room  \\\n",
       "0     43.0     27.0    4.0       17.0       1.0      2014.0       2.0   \n",
       "1     34.0     19.0    3.0       17.0       1.0      2014.0       2.0   \n",
       "2     43.0     29.0    2.0       17.0       1.0      2014.0       2.0   \n",
       "3     89.0     50.0    9.0       17.0       1.0      2014.0       2.0   \n",
       "4     77.0     77.0    4.0       17.0       1.0      2014.0       2.0   \n",
       "\n",
       "   kitch_sq  state  product_type  ...  cafe_count_5000_price_4000  \\\n",
       "0       1.0    2.0             0  ...                           4   \n",
       "1       1.0    2.0             0  ...                           3   \n",
       "2       1.0    2.0             0  ...                           3   \n",
       "3       1.0    2.0             0  ...                           2   \n",
       "4       1.0    2.0             0  ...                         108   \n",
       "\n",
       "   cafe_count_5000_price_high  big_church_count_5000  church_count_5000  \\\n",
       "0                           0                     13                 22   \n",
       "1                           0                     15                 29   \n",
       "2                           0                     11                 27   \n",
       "3                           1                      4                  4   \n",
       "4                          17                    135                236   \n",
       "\n",
       "   mosque_count_5000  leisure_count_5000  sport_count_5000  market_count_5000  \\\n",
       "0                  1                   0                52                  4   \n",
       "1                  1                  10                66                 14   \n",
       "2                  0                   4                67                 10   \n",
       "3                  0                   0                26                  3   \n",
       "4                  2                  91               195                 14   \n",
       "\n",
       "   trainOrTest  timedelta  \n",
       "0            1          0  \n",
       "1            1          3  \n",
       "2            1          7  \n",
       "3            1         12  \n",
       "4            1         16  \n",
       "\n",
       "[5 rows x 291 columns]"
      ]
     },
     "execution_count": 9,
     "metadata": {},
     "output_type": "execute_result"
    }
   ],
   "source": [
    "# See the results\n",
    "df_all.head()"
   ]
  },
  {
   "cell_type": "code",
   "execution_count": 10,
   "metadata": {
    "_cell_guid": "956ac088-dcda-7673-357c-f36659ea255b"
   },
   "outputs": [],
   "source": [
    "# Prepare separate train and test datasets\n",
    "idx_train = df_all['trainOrTest'] == 1\n",
    "idx_test = df_all['trainOrTest'] == 0\n",
    "\n",
    "x_train = df_all[idx_train]\n",
    "x_test = df_all[idx_test]"
   ]
  },
  {
   "cell_type": "markdown",
   "metadata": {
    "_cell_guid": "424ba02f-1a84-ba06-410b-362a42633760"
   },
   "source": [
    "### Create decision tree"
   ]
  },
  {
   "cell_type": "code",
   "execution_count": 11,
   "metadata": {
    "_cell_guid": "51853920-b654-8e7b-9e4f-661da8209d3f"
   },
   "outputs": [],
   "source": [
    "# Instantiate a decision tree regressor\n",
    "# Choose a depth for the tree - something 3, 4 or 5 - not too large\n",
    "Model = DecisionTreeRegressor(max_depth = 3)"
   ]
  },
  {
   "cell_type": "code",
   "execution_count": 12,
   "metadata": {
    "_cell_guid": "8135bcb2-edc1-4c4f-995e-0b433fd7016f"
   },
   "outputs": [
    {
     "data": {
      "text/plain": [
       "DecisionTreeRegressor(criterion='mse', max_depth=3, max_features=None,\n",
       "           max_leaf_nodes=None, min_impurity_decrease=0.0,\n",
       "           min_impurity_split=None, min_samples_leaf=1,\n",
       "           min_samples_split=2, min_weight_fraction_leaf=0.0,\n",
       "           presort=False, random_state=None, splitter='best')"
      ]
     },
     "execution_count": 12,
     "metadata": {},
     "output_type": "execute_result"
    }
   ],
   "source": [
    "# Train the tree\n",
    "Model.fit(X = x_train, y = ylog1p_train)"
   ]
  },
  {
   "cell_type": "code",
   "execution_count": 13,
   "metadata": {
    "_cell_guid": "8d4757da-d896-73ce-3778-380dd6b258a9"
   },
   "outputs": [],
   "source": [
    "# Make predictions \n",
    "ylog_pred = Model.predict(X = x_train)"
   ]
  },
  {
   "cell_type": "code",
   "execution_count": 14,
   "metadata": {
    "_cell_guid": "83b3430f-ab1e-04ea-2349-3cd5f48233a2"
   },
   "outputs": [
    {
     "data": {
      "text/plain": [
       "0.5050585292848252"
      ]
     },
     "execution_count": 14,
     "metadata": {},
     "output_type": "execute_result"
    }
   ],
   "source": [
    "# Check the training error\n",
    "\n",
    "np.sqrt(np.mean((ylog_pred - ylog1p_train)**2))"
   ]
  },
  {
   "cell_type": "markdown",
   "metadata": {
    "_cell_guid": "eb87cbf9-55d7-6119-9d3f-d8b14c2bdebe"
   },
   "source": [
    "### Random forest\n",
    "\n",
    "The parameter n_estimators, indicates the number of trees we would like in our forest."
   ]
  },
  {
   "cell_type": "code",
   "execution_count": 15,
   "metadata": {
    "_cell_guid": "37ac400b-b6d4-0a4e-2c14-efaaf7023893"
   },
   "outputs": [],
   "source": [
    "# Instantiate a random forest regressor\n",
    "Model = RandomForestRegressor(n_estimators = 30, \n",
    "                              random_state = 2017, \n",
    "                              oob_score = True, \n",
    "                              max_features = 20,\n",
    "                              min_samples_leaf = 8)"
   ]
  },
  {
   "cell_type": "code",
   "execution_count": 16,
   "metadata": {
    "_cell_guid": "659ce615-002a-fd38-2b3c-7b72183e2c4b"
   },
   "outputs": [
    {
     "data": {
      "text/plain": [
       "RandomForestRegressor(bootstrap=True, criterion='mse', max_depth=None,\n",
       "           max_features=20, max_leaf_nodes=None, min_impurity_decrease=0.0,\n",
       "           min_impurity_split=None, min_samples_leaf=8,\n",
       "           min_samples_split=2, min_weight_fraction_leaf=0.0,\n",
       "           n_estimators=30, n_jobs=None, oob_score=True, random_state=2017,\n",
       "           verbose=0, warm_start=False)"
      ]
     },
     "execution_count": 16,
     "metadata": {},
     "output_type": "execute_result"
    }
   ],
   "source": [
    "# Train the forest\n",
    "Model.fit(X = x_train, y = ylog1p_train)"
   ]
  },
  {
   "cell_type": "code",
   "execution_count": 17,
   "metadata": {
    "_cell_guid": "ec2c597e-6194-aae0-e410-44252b5ade0a"
   },
   "outputs": [],
   "source": [
    "# Make predictions \n",
    "ylog_pred = Model.predict(X = x_train)"
   ]
  },
  {
   "cell_type": "markdown",
   "metadata": {
    "_cell_guid": "a629aa22-6a34-59ae-b040-33ba75978da6"
   },
   "source": [
    "### Check the performance of the random forest"
   ]
  },
  {
   "cell_type": "code",
   "execution_count": 18,
   "metadata": {
    "_cell_guid": "ba3ad55c-080e-57dd-2fc0-f0ca55ae1929"
   },
   "outputs": [
    {
     "data": {
      "text/plain": [
       "0.37598117525044705"
      ]
     },
     "execution_count": 18,
     "metadata": {},
     "output_type": "execute_result"
    }
   ],
   "source": [
    "# Check the training error\n",
    "np.sqrt(np.mean((ylog_pred - ylog1p_train)**2)) # about 0.37 (if you use 100 trees)"
   ]
  },
  {
   "cell_type": "markdown",
   "metadata": {
    "_cell_guid": "5bfd93c8-8dbd-1d06-9dd0-50bbd424659f"
   },
   "source": [
    "The training error looks pretty good."
   ]
  },
  {
   "cell_type": "markdown",
   "metadata": {
    "_cell_guid": "775824de-e24f-78ad-19d9-4d91588056d8"
   },
   "source": [
    "## Actual versus expected"
   ]
  },
  {
   "cell_type": "code",
   "execution_count": 19,
   "metadata": {
    "_cell_guid": "98686ea8-a969-0ea2-f97b-78d9edf7f43a"
   },
   "outputs": [
    {
     "data": {
      "image/png": "[encoded data removed]",
      "text/plain": [
       "<Figure size 432x288 with 1 Axes>"
      ]
     },
     "metadata": {
      "needs_background": "light"
     },
     "output_type": "display_data"
    }
   ],
   "source": [
    "fig, ax = plt.subplots()\n",
    "plt.scatter(Model.oob_prediction_, ylog1p_train)\n",
    "x = np.linspace(*ax.get_xlim())\n",
    "ax.plot(x, x, color = 'black')\n",
    "plt.show()"
   ]
  },
  {
   "cell_type": "markdown",
   "metadata": {
    "_cell_guid": "3eb8bbd3-1d11-0ac8-85cc-51f49d4c2bff"
   },
   "source": [
    "## Variable importance"
   ]
  },
  {
   "cell_type": "code",
   "execution_count": 20,
   "metadata": {
    "_cell_guid": "2c1929dc-1be6-9b2a-2589-b4707dab754f"
   },
   "outputs": [],
   "source": [
    "# Create a dataframe of the variable importances\n",
    "df_ = pd.DataFrame(df_all.columns, columns = ['feature'])\n",
    "df_['fscore'] = Model.feature_importances_[:, ]"
   ]
  },
  {
   "cell_type": "code",
   "execution_count": 21,
   "metadata": {
    "_cell_guid": "9d01df3d-95fd-3e9f-4cbf-35939b8033a1"
   },
   "outputs": [
    {
     "data": {
      "image/png": "[encoded data removed]",
      "text/plain": [
       "<Figure size 432x720 with 1 Axes>"
      ]
     },
     "metadata": {
      "needs_background": "light"
     },
     "output_type": "display_data"
    }
   ],
   "source": [
    "# Plot the relative importance of the top 10 features\n",
    "df_['fscore'] = df_['fscore'] / df_['fscore'].max()\n",
    "df_.sort_values('fscore', ascending = False, inplace = True)\n",
    "df_ = df_[0:10]\n",
    "df_.sort_values('fscore', ascending = True, inplace = True)\n",
    "df_.plot(kind='barh', x='feature', y='fscore', legend=False, figsize=(6, 10))\n",
    "plt.title('Random forest feature importance', fontsize = 24)\n",
    "plt.xlabel('')\n",
    "plt.ylabel('')\n",
    "plt.xticks([], [])\n",
    "plt.yticks(fontsize=20)\n",
    "plt.show()"
   ]
  },
  {
   "cell_type": "markdown",
   "metadata": {
    "_cell_guid": "3db02b86-b24e-a817-3a85-a0d2b33392fe"
   },
   "source": [
    "## Create the predictions"
   ]
  },
  {
   "cell_type": "code",
   "execution_count": 22,
   "metadata": {
    "_cell_guid": "41559cab-54f5-dd66-dae4-c6855c3dd604"
   },
   "outputs": [],
   "source": [
    "# Create the predictions\n",
    "\n",
    "ylog_pred = Model.predict(x_test)\n",
    "y_pred = np.exp(ylog_pred) - 1"
   ]
  },
  {
   "cell_type": "markdown",
   "metadata": {
    "_cell_guid": "27fe5e9b-eb63-441f-de9a-853453dff42b"
   },
   "source": [
    "now to output the predictions to a csv"
   ]
  },
  {
   "cell_type": "code",
   "execution_count": 23,
   "metadata": {
    "_cell_guid": "715d3304-ae55-e13c-890f-385ac45b6608"
   },
   "outputs": [],
   "source": [
    "output = pd.DataFrame({'id': id_test, 'price_doc': y_pred})\n",
    "\n",
    "output.to_csv('RandomForest_2.csv', index=False)"
   ]
  }
 ],
 "metadata": {
  "_change_revision": 125,
  "_is_fork": false,
  "kernelspec": {
   "display_name": "Python 3",
   "language": "python",
   "name": "python3"
  },
  "language_info": {
   "codemirror_mode": {
    "name": "ipython",
    "version": 3
   },
   "file_extension": ".py",
   "mimetype": "text/x-python",
   "name": "python",
   "nbconvert_exporter": "python",
   "pygments_lexer": "ipython3",
   "version": "3.7.3"
  }
 },
 "nbformat": 4,
 "nbformat_minor": 1
}
